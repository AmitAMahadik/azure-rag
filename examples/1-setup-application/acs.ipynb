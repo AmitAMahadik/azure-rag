{
 "cells": [
  {
   "cell_type": "code",
   "execution_count": null,
   "metadata": {},
   "outputs": [],
   "source": [
    "import os\n",
    "import openai\n",
    "from langchain.embeddings import OpenAIEmbeddings\n",
    "from langchain.vectorstores import AzureSearch\n",
    "from dotenv import load_dotenv\n",
    "load_dotenv('.env')\n"
   ]
  },
  {
   "cell_type": "code",
   "execution_count": null,
   "metadata": {},
   "outputs": [],
   "source": [
    "embeddings = OpenAIEmbeddings(deployment=\"demo-embedding\", chunk_size=1)\n",
    "\n",
    "# Connect to Azure Cognitive Search\n",
    "acs = AzureSearch(azure_search_endpoint=os.getenv('SEARCH_SERVICE_NAME'),\n",
    "                 azure_search_key=os.getenv('SEARCH_API_KEY'),\n",
    "                 index_name=os.getenv('SEARCH_INDEX_NAME'),\n",
    "                 embedding_function=embeddings.embed_query)"
   ]
  },
  {
   "cell_type": "code",
   "execution_count": null,
   "metadata": {},
   "outputs": [],
   "source": [
    "from langchain.document_loaders import CSVLoader\n",
    "\n",
    "loader = CSVLoader(\"wine-ratings.csv\")\n",
    "documents = loader.load()"
   ]
  },
  {
   "cell_type": "code",
   "execution_count": null,
   "metadata": {},
   "outputs": [],
   "source": [
    "# Debug: Check what was loaded from CSV\n",
    "print(f\"Number of documents loaded: {len(documents)}\")\n",
    "print(f\"First document preview: {documents[0].page_content[:200] if documents else 'No documents'}...\")\n",
    "print(f\"Document metadata: {documents[0].metadata if documents else 'No documents'}\")"
   ]
  },
  {
   "cell_type": "code",
   "execution_count": null,
   "metadata": {},
   "outputs": [],
   "source": [
    "# Process documents in smaller batches to avoid timeout\n",
    "from langchain.text_splitter import CharacterTextSplitter\n",
    "import time\n",
    "\n",
    "text_splitter = CharacterTextSplitter(chunk_size=1000, chunk_overlap=0)\n",
    "docs = text_splitter.split_documents(documents)\n",
    "\n",
    "print(f\"Total documents after splitting: {len(docs)}\")\n",
    "print(\"Processing documents in batches...\")\n",
    "\n",
    "# Process in batches of 50 documents to avoid API timeouts\n",
    "batch_size = 50\n",
    "total_batches = (len(docs) + batch_size - 1) // batch_size\n",
    "successful_uploads = 0\n",
    "\n",
    "for i in range(0, len(docs), batch_size):  # Start with first 200 docs as a test\n",
    "    batch_docs = docs[i:i+batch_size]\n",
    "    batch_num = i // batch_size + 1\n",
    "    \n",
    "    try:\n",
    "        print(f\"Processing batch {batch_num}/{total_batches} ({len(batch_docs)} documents)...\")\n",
    "        acs.add_documents(documents=batch_docs)\n",
    "        successful_uploads += len(batch_docs)\n",
    "        print(f\"✓ Batch {batch_num} uploaded successfully\")\n",
    "        \n",
    "        # Small delay to be gentle on APIs\n",
    "        time.sleep(1)\n",
    "        \n",
    "    except Exception as e:\n",
    "        print(f\"✗ Error in batch {batch_num}: {str(e)}\")\n",
    "        break\n",
    "\n",
    "print(f\"\\nTotal documents successfully uploaded: {successful_uploads}\")\n",
    "print(f\"Remaining documents: {len(docs) - successful_uploads}\")"
   ]
  },
  {
   "cell_type": "code",
   "execution_count": null,
   "metadata": {},
   "outputs": [],
   "source": [
    "# Test the search functionality with the uploaded documents\n",
    "print(\"Testing similarity search...\")\n",
    "\n",
    "try:\n",
    "    results = acs.similarity_search_with_relevance_scores(\n",
    "        query=\"What is the best Cabernet Sauvignon wine in Napa Valley above 94 points\",\n",
    "        k=5,\n",
    "    )\n",
    "    \n",
    "    if results:\n",
    "        print(f\"\\n✓ Found {len(results)} results!\")\n",
    "        print(f\"\\nTop result (relevance: {results[0][1]:.3f}):\")\n",
    "        print(results[0][0].page_content)\n",
    "        print(f\"\\nMetadata: {results[0][0].metadata}\")\n",
    "    else:\n",
    "        print(\"No results found\")\n",
    "        \n",
    "except Exception as e:\n",
    "    print(f\"Search error: {e}\")"
   ]
  },
  {
   "cell_type": "code",
   "execution_count": null,
   "metadata": {},
   "outputs": [],
   "source": [
    "# ORIGINAL PROBLEMATIC CODE - CAUSES TIMEOUT WITH LARGE CSV FILES\n",
    "# This cell will fail with 32k+ documents because it tries to process all at once\n",
    "# from langchain.text_splitter import CharacterTextSplitter\n",
    "# text_splitter = CharacterTextSplitter(chunk_size=1000, chunk_overlap=0)\n",
    "# docs = text_splitter.split_documents(documents)\n",
    "# acs.add_documents(documents=docs)  # This times out with large datasets\n",
    "\n",
    "#print(\"⚠️  This cell has been disabled to prevent timeout.\")\n",
    "#print(\"📊 The wine-ratings.csv contains 32,780+ records.\")\n",
    "#print(\"🔧 Use the batch processing approach in the cells below instead.\")\n",
    "#print(\"✅ Batch processing successfully uploads documents without timeouts.\")"
   ]
  },
  {
   "cell_type": "code",
   "execution_count": null,
   "metadata": {},
   "outputs": [],
   "source": [
    "docs = acs.similarity_search_with_relevance_scores(\n",
    "    query=\"What is the best Cabernet Sauvignon wine in Napa Valley above 94 points\",\n",
    "    k=5,\n",
    ")\n",
    "print(docs[0][0].page_content)\n",
    "print(dir(docs[0][0]))"
   ]
  },
  {
   "cell_type": "code",
   "execution_count": 34,
   "metadata": {},
   "outputs": [
    {
     "name": "stdout",
     "output_type": "stream",
     "text": [
      "🔍 Troubleshooting Azure OpenAI Configuration...\n",
      "API Base: https://oai-demo-search.openai.azure.com/\n",
      "API Key: ✅ Set\n",
      "Model: text-embedding-ada-002\n",
      "\n",
      "✅ Configuration looks good, attempting API call...\n",
      "🤖 Calling Azure OpenAI...\n",
      "❌ Error during API call: Error code: 401 - {'error': {'code': '401', 'message': 'Access denied due to invalid subscription key or wrong API endpoint. Make sure to provide a valid key for an active subscription and use a correct regional API endpoint for your resource.'}}\n",
      "\n",
      "🔧 Possible solutions:\n",
      "1. Verify OPENAI_API_BASE points to correct Azure OpenAI endpoint\n",
      "2. Check OPENAI_API_KEY is valid and active\n",
      "3. Ensure model name matches your Azure OpenAI deployment\n",
      "4. Verify your Azure subscription has access to OpenAI service\n"
     ]
    }
   ],
   "source": [
    "# 🔧 TROUBLESHOOTING: Azure OpenAI Chat Completion\n",
    "print(\"🔍 Troubleshooting Azure OpenAI Configuration...\")\n",
    "\n",
    "# Check critical environment variables\n",
    "api_base = os.getenv(\"OPENAI_API_BASE\")\n",
    "api_key = os.getenv(\"OPENAI_API_KEY\")\n",
    "model_name = os.getenv(\"OPENAI_MODEL\")\n",
    "\n",
    "print(f\"API Base: {api_base}\")\n",
    "print(f\"API Key: {'✅ Set' if api_key else '❌ Missing'}\")\n",
    "print(f\"Model: {model_name}\")\n",
    "\n",
    "# 🚨 CRITICAL ISSUE: Missing OPENAI_API_BASE\n",
    "if not api_base:\n",
    "    print(\"\\n❌ CRITICAL ERROR: OPENAI_API_BASE is not set!\")\n",
    "    print(\"🔧 SOLUTION: Set your Azure OpenAI endpoint:\")\n",
    "    print(\"   export OPENAI_API_BASE='https://your-resource-name.openai.azure.com/'\")\n",
    "    print(\"\\n⚠️  Cannot proceed with OpenAI API call without valid endpoint.\")\n",
    "    \n",
    "else:\n",
    "    # Proceed with API call if endpoint is available\n",
    "    print(f\"\\n✅ Configuration looks good, attempting API call...\")\n",
    "    \n",
    "    try:\n",
    "        # Modern OpenAI v1.0+ API syntax for Azure OpenAI\n",
    "        from openai import AzureOpenAI\n",
    "        \n",
    "        # Initialize Azure OpenAI client\n",
    "        client = AzureOpenAI(\n",
    "            api_key=api_key,\n",
    "            api_version=\"2023-05-15\",\n",
    "            azure_endpoint=api_base\n",
    "        )\n",
    "        \n",
    "        # Get retrieved documents from search results\n",
    "        retrieved_content = results[0][0].page_content if 'results' in locals() and results else \"No wine data found\"\n",
    "        \n",
    "        messages = [\n",
    "            {\"role\": \"system\", \"content\": \"Assistant is a chatbot that helps you find the best wine for your taste.\"},\n",
    "            {\"role\": \"user\", \"content\": \"What is the best wine in Oregon above 92 points?\"},\n",
    "            {\"role\": \"assistant\", \"content\": retrieved_content}\n",
    "        ]\n",
    "        \n",
    "        print(\"🤖 Calling Azure OpenAI...\")\n",
    "        response = client.chat.completions.create(\n",
    "            model=model_name,\n",
    "            messages=messages,\n",
    "        )\n",
    "        \n",
    "        print(\"✅ Success! OpenAI API call completed.\")\n",
    "        print(f\"\\nAssistant reply: {response.choices[0].message.content}\")\n",
    "        \n",
    "    except Exception as e:\n",
    "        print(f\"❌ Error during API call: {str(e)}\")\n",
    "        print(\"\\n🔧 Possible solutions:\")\n",
    "        print(\"1. Verify OPENAI_API_BASE points to correct Azure OpenAI endpoint\")\n",
    "        print(\"2. Check OPENAI_API_KEY is valid and active\") \n",
    "        print(\"3. Ensure model name matches your Azure OpenAI deployment\")\n",
    "        print(\"4. Verify your Azure subscription has access to OpenAI service\")"
   ]
  }
 ],
 "metadata": {
  "kernelspec": {
   "display_name": "Python 3",
   "language": "python",
   "name": "python3"
  },
  "language_info": {
   "codemirror_mode": {
    "name": "ipython",
    "version": 3
   },
   "file_extension": ".py",
   "mimetype": "text/x-python",
   "name": "python",
   "nbconvert_exporter": "python",
   "pygments_lexer": "ipython3",
   "version": "3.13.5"
  }
 },
 "nbformat": 4,
 "nbformat_minor": 2
}
